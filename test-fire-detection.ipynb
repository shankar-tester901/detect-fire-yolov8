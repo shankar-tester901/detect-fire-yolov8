%pip install ultralytics
import ultralytics
ultralytics.checks()
from ultralytics import YOLO
from google.colab.patches import cv2_imshow
import cv2
import math




# Running real time from webcam
cap = cv2.VideoCapture('fire2.mp4')
model = YOLO('fire-best.pt')


# Reading the classes
classnames = ['fire']

while True:
    ret,frame = cap.read()
    frame = cv2.resize(frame,(640,480))
    result = model(frame,stream=True)

    # Getting bbox,confidence and class names informations to work with
    for info in result:
        boxes = info.boxes
        for box in boxes:
            confidence = box.conf[0]
            confidence = math.ceil(confidence * 100)
            Class = int(box.cls[0])
            if confidence > 50:
                x1,y1,x2,y2 = box.xyxy[0]
                x1, y1, x2, y2 = int(x1),int(y1),int(x2),int(y2)
                cv2.rectangle(frame,(x1,y1),(x2,y2),(0,0,255),5)
                cv2.putText(frame, f'{classnames[Class]} {confidence}%', [x1 + 8, y1 + 100],cv2.FONT_HERSHEY_PLAIN, color=(255,0,0),fontScale=1.5,thickness=2)
                #mask = cv2.putText(mask,text,(0,15),font,font_size,font_color,thick,cv2.LINE_AA)



    cv2_imshow(frame)
    cv2.waitKey(1)
